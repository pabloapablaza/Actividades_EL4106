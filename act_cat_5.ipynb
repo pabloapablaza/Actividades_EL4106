{
 "cells": [
  {
   "cell_type": "markdown",
   "metadata": {
    "colab_type": "text",
    "id": "gmbRYKD1odtB"
   },
   "source": [
    "# Actividad de cátedra 5: Batch Normalization\n",
    "### Basado en la Tarea 1\n",
    "\n",
    "Profesor de Cátedra: Pablo Estévez<br>\n",
    "Profesor Auxiliar: Ignacio Reyes<br>\n",
    "Ayudantes: Francisca Cona, Jhon Intriago, Pablo Montero, Óscar Pimentel, Esteban Reyes, Mauricio Romero"
   ]
  },
  {
   "cell_type": "markdown",
   "metadata": {
    "colab_type": "text",
    "id": "gr3dCq8pYd_w"
   },
   "source": [
    "## Imports"
   ]
  },
  {
   "cell_type": "code",
   "execution_count": 25,
   "metadata": {
    "colab": {
     "base_uri": "https://localhost:8080/",
     "height": 52
    },
    "colab_type": "code",
    "id": "Wiv1sT9tpZO-",
    "outputId": "a0bd7f05-2f40-44aa-bd7c-90a26898e458"
   },
   "outputs": [
    {
     "name": "stdout",
     "output_type": "stream",
     "text": [
      "Tensorflow version 2.3.1\n"
     ]
    },
    {
     "name": "stderr",
     "output_type": "stream",
     "text": [
      "<ipython-input-25-c59910049910>:13: UserWarning: GPU device not found\n",
      "  warnings.warn('GPU device not found')\n"
     ]
    }
   ],
   "source": [
    "import numpy as np\n",
    "import tensorflow as tf\n",
    "\n",
    "import itertools\n",
    "import warnings\n",
    "from sklearn.metrics import confusion_matrix as sk_conf_mat\n",
    "\n",
    "# Se imprime la version de Tensorflow\n",
    "print('Tensorflow version', tf.__version__)\n",
    "# Se imprime si es que se esta utilizando GPU o no\n",
    "device_name = tf.test.gpu_device_name()\n",
    "if device_name != '/device:GPU:0':\n",
    "    warnings.warn('GPU device not found')\n",
    "else:\n",
    "    print('Found GPU at: {}'.format(device_name))"
   ]
  },
  {
   "cell_type": "markdown",
   "metadata": {
    "colab_type": "text",
    "id": "lAqEQZkkRgTJ"
   },
   "source": [
    "## Preparación de la base de datos MNIST"
   ]
  },
  {
   "cell_type": "code",
   "execution_count": 26,
   "metadata": {
    "colab": {
     "base_uri": "https://localhost:8080/",
     "height": 34
    },
    "colab_type": "code",
    "id": "RahVklIFRfbE",
    "outputId": "962ab9ec-8076-43d1-a599-6ae3bcc18c24"
   },
   "outputs": [],
   "source": [
    "BATCH_SIZE = 8\n",
    "\n",
    "mnist = tf.keras.datasets.mnist\n",
    "(x_train, y_train), (x_test, y_test) = mnist.load_data()\n",
    "\n",
    "x_train = x_train.astype(np.float32) / 255.0\n",
    "x_test = x_test.astype(np.float32) / 255.0\n",
    "\n",
    "y_train = y_train.astype(np.float32)\n",
    "y_test = y_test.astype(np.float32)\n",
    "\n",
    "training_dataset = tf.data.Dataset.from_tensor_slices(\n",
    "    (x_train, y_train)).shuffle(buffer_size=1024).batch(BATCH_SIZE)\n",
    "test_dataset = tf.data.Dataset.from_tensor_slices(\n",
    "    (x_test, y_test)).shuffle(buffer_size=1024).batch(BATCH_SIZE)"
   ]
  },
  {
   "cell_type": "markdown",
   "metadata": {
    "colab_type": "text",
    "id": "Q4f4FFyhpdDA"
   },
   "source": [
    "## Definición de Clasificador MLP"
   ]
  },
  {
   "cell_type": "code",
   "execution_count": 27,
   "metadata": {
    "colab": {},
    "colab_type": "code",
    "id": "fITl9UaSydAf"
   },
   "outputs": [
    {
     "name": "stdout",
     "output_type": "stream",
     "text": [
      "Model: \"sequential_2\"\n",
      "_________________________________________________________________\n",
      "Layer (type)                 Output Shape              Param #   \n",
      "=================================================================\n",
      "flatten_2 (Flatten)          (None, 784)               0         \n",
      "_________________________________________________________________\n",
      "batch_normalization_6 (Batch (None, 784)               3136      \n",
      "_________________________________________________________________\n",
      "dense_6 (Dense)              (None, 300)               235500    \n",
      "_________________________________________________________________\n",
      "batch_normalization_7 (Batch (None, 300)               1200      \n",
      "_________________________________________________________________\n",
      "dense_7 (Dense)              (None, 100)               30100     \n",
      "_________________________________________________________________\n",
      "batch_normalization_8 (Batch (None, 100)               400       \n",
      "_________________________________________________________________\n",
      "dense_8 (Dense)              (None, 10)                1010      \n",
      "=================================================================\n",
      "Total params: 271,346\n",
      "Trainable params: 268,978\n",
      "Non-trainable params: 2,368\n",
      "_________________________________________________________________\n"
     ]
    }
   ],
   "source": [
    "mlp = tf.keras.Sequential()\n",
    "mlp.add(tf.keras.layers.Flatten())\n",
    "mlp.add(tf.keras.layers.BatchNormalization())\n",
    "mlp.add(tf.keras.layers.Dense(300, activation=\"relu\"))\n",
    "mlp.add(tf.keras.layers.BatchNormalization())\n",
    "mlp.add(tf.keras.layers.Dense(100, activation=\"relu\"))\n",
    "mlp.add(tf.keras.layers.BatchNormalization())\n",
    "mlp.add(tf.keras.layers.Dense(10))\n",
    "\n",
    "mlp.build(input_shape=(None, 28, 28))\n",
    "mlp.summary()"
   ]
  },
  {
   "cell_type": "markdown",
   "metadata": {
    "colab_type": "text",
    "id": "5HUxx8YiRbDl"
   },
   "source": [
    "## Entrenamiento de MLP"
   ]
  },
  {
   "cell_type": "code",
   "execution_count": 28,
   "metadata": {},
   "outputs": [],
   "source": [
    "loss = tf.keras.losses.SparseCategoricalCrossentropy(from_logits=True)\n",
    "optimizer = tf.keras.optimizers.SGD(learning_rate=0.01)\n",
    "mlp.compile(optimizer, loss, metrics=['accuracy'])"
   ]
  },
  {
   "cell_type": "code",
   "execution_count": 29,
   "metadata": {},
   "outputs": [
    {
     "name": "stdout",
     "output_type": "stream",
     "text": [
      "Epoch 1/10\n",
      "  2/200 [..............................] - ETA: 1:20 - loss: 2.5762 - accuracy: 0.1875WARNING:tensorflow:Callbacks method `on_train_batch_begin` is slow compared to the batch time (batch time: 0.0030s vs `on_train_batch_begin` time: 0.0170s). Check your callbacks.\n",
      "WARNING:tensorflow:Callbacks method `on_train_batch_end` is slow compared to the batch time (batch time: 0.0030s vs `on_train_batch_end` time: 0.7891s). Check your callbacks.\n",
      "200/200 [==============================] - 3s 13ms/step - loss: 0.9810 - accuracy: 0.6950 - val_loss: 0.6602 - val_accuracy: 0.8407\n",
      "Epoch 2/10\n",
      "200/200 [==============================] - 1s 7ms/step - loss: 0.6261 - accuracy: 0.8012 - val_loss: 0.3878 - val_accuracy: 0.8819\n",
      "Epoch 3/10\n",
      "200/200 [==============================] - 1s 7ms/step - loss: 0.5426 - accuracy: 0.8238 - val_loss: 0.3453 - val_accuracy: 0.8959\n",
      "Epoch 4/10\n",
      "200/200 [==============================] - 1s 7ms/step - loss: 0.5020 - accuracy: 0.8413 - val_loss: 0.3391 - val_accuracy: 0.9014\n",
      "Epoch 5/10\n",
      "200/200 [==============================] - 2s 8ms/step - loss: 0.5343 - accuracy: 0.8381 - val_loss: 0.3329 - val_accuracy: 0.8997\n",
      "Epoch 6/10\n",
      "200/200 [==============================] - 2s 8ms/step - loss: 0.5013 - accuracy: 0.8525 - val_loss: 0.2941 - val_accuracy: 0.9142\n",
      "Epoch 7/10\n",
      "200/200 [==============================] - 2s 8ms/step - loss: 0.4205 - accuracy: 0.8712 - val_loss: 0.2948 - val_accuracy: 0.9144\n",
      "Epoch 8/10\n",
      "200/200 [==============================] - 2s 9ms/step - loss: 0.4888 - accuracy: 0.8506 - val_loss: 0.2688 - val_accuracy: 0.9215\n",
      "Epoch 9/10\n",
      "200/200 [==============================] - 2s 8ms/step - loss: 0.4388 - accuracy: 0.8712 - val_loss: 0.2577 - val_accuracy: 0.9208\n",
      "Epoch 10/10\n",
      "200/200 [==============================] - 1s 7ms/step - loss: 0.4912 - accuracy: 0.8481 - val_loss: 0.2483 - val_accuracy: 0.9268\n"
     ]
    },
    {
     "data": {
      "text/plain": [
       "<tensorflow.python.keras.callbacks.History at 0x19deac1c250>"
      ]
     },
     "execution_count": 29,
     "metadata": {},
     "output_type": "execute_result"
    }
   ],
   "source": [
    "mlp.fit(\n",
    "    training_dataset, \n",
    "    epochs=10,\n",
    "    steps_per_epoch=200,\n",
    "    validation_data=test_dataset,\n",
    "    validation_freq=1,\n",
    "    callbacks=[tf.keras.callbacks.TensorBoard('./logs/yes_1_bn', update_freq=100)]\n",
    ")"
   ]
  },
  {
   "cell_type": "code",
   "execution_count": 35,
   "metadata": {},
   "outputs": [],
   "source": [
    "%reload_ext tensorboard"
   ]
  },
  {
   "cell_type": "code",
   "execution_count": null,
   "metadata": {},
   "outputs": [],
   "source": [
    "tensorboard --logdir=logs --host localhost --port 6006"
   ]
  },
  {
   "cell_type": "code",
   "execution_count": null,
   "metadata": {
    "scrolled": false
   },
   "outputs": [],
   "source": [
    "%tensorboard --logdir logs"
   ]
  },
  {
   "cell_type": "code",
   "execution_count": null,
   "metadata": {},
   "outputs": [],
   "source": [
    "#%tensorboard --logdir=."
   ]
  },
  {
   "cell_type": "code",
   "execution_count": null,
   "metadata": {},
   "outputs": [],
   "source": [
    "ls"
   ]
  },
  {
   "cell_type": "markdown",
   "metadata": {
    "colab": {
     "base_uri": "https://localhost:8080/",
     "height": 52
    },
    "colab_type": "code",
    "id": "WDbgq2lP4xZy",
    "outputId": "01b03a30-f2f8-4e00-9a60-0b008a1d4383"
   },
   "source": [
    "# Instrucciones:\n",
    "* Entrene la MLP sin batch normalization que se entrega en el código actual.\n",
    "* Agregue 3 capas de batch normalization, cada una de ellas justo antes de cada capa fully-connected. Puede instanciar dicha capa con el comando tf.keras.layers.BatchNormalization()\n",
    "* Modifique el directorio donde se guardan los logs de tensorboard para evitar escribir múltiples logs en la misma carpeta.\n",
    "* Lance tensorboard y compare ambos entrenamientos.\n",
    "\n",
    "# Preguntas\n",
    "* ¿En qué caso se obtiene un mejor modelo?\n",
    "* ¿Cómo cambian las curvas de aprendizaje?\n",
    "\n",
    "# Entrega\n",
    "* Entregue sus resultados y análisis en formato pdf.\n",
    "* Inserte una captura de pantalla con las curvas de aprendizaje de tensorboard.\n",
    "* Inserte una captura de pantalla con los grafos ambos modelos mostrados en tensorboard.\n",
    "\n",
    "Nota: El \"epoch\" indicado en tensorboard corresponde a 200 iteraciones, no a una pasada completa por el dataset. Esto se configuró así para forzar al callback de keras a capturar métricas de validación de forma más seguida.\n"
   ]
  }
 ],
 "metadata": {
  "accelerator": "GPU",
  "colab": {
   "collapsed_sections": [],
   "name": "Tarea1_Notebook.ipynb",
   "provenance": []
  },
  "kernelspec": {
   "display_name": "Python 3",
   "language": "python",
   "name": "python3"
  },
  "language_info": {
   "codemirror_mode": {
    "name": "ipython",
    "version": 3
   },
   "file_extension": ".py",
   "mimetype": "text/x-python",
   "name": "python",
   "nbconvert_exporter": "python",
   "pygments_lexer": "ipython3",
   "version": "3.8.3"
  }
 },
 "nbformat": 4,
 "nbformat_minor": 1
}
